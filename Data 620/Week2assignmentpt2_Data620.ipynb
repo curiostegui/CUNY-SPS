{
 "cells": [
  {
   "attachments": {},
   "cell_type": "markdown",
   "metadata": {},
   "source": [
    "# Week 2 Part 2 - Centrality\n",
    "\n",
    "Alice Ding, Shoshana Farber, Christian Uriostegui"
   ]
  },
  {
   "attachments": {},
   "cell_type": "markdown",
   "metadata": {},
   "source": [
    "### Assignment Details \n",
    "\n",
    "Centrality measures can be used to predict (positive or negative) outcomes for a node.\n",
    "\n",
    "Your task in this week’s assignment is to identify an interesting set of network data that is available on the web (either through web scraping or web APIs) that could be used for analyzing and comparing centrality measures across nodes. As an additional constraint, there should be at least one categorical variable available for each node (such as “Male” or “Female”; “Republican”, “Democrat,” or “Undecided”, etc.)\n",
    "\n",
    "In addition to identifying your data source, you should create a high level plan that describes how you would load the data for analysis, and describe a hypothetical outcome that could be predicted from comparing degree centrality across categorical groups.\n",
    "\n",
    "For this week’s assignment, you are not required to actually load or analyze the data."
   ]
  },
  {
   "attachments": {},
   "cell_type": "markdown",
   "metadata": {},
   "source": [
    "### The Data\n",
    "\n",
    "For our dataset, we chose a [Marvel Comic Universe](https://www.kaggle.com/datasets/trnguyen1510/the-marvel-comic-characters-partnerships?select=nodes.csv) dataset from Kaggle. \n",
    "\n",
    "The data represents connections between different superheroes and/or villains and consists of two separate files for the nodes and edges.\n",
    "\n",
    "**nodes.csv** lists the names of all heroes/villains in the dataset with a categorical variable indicating whether that person is a hero (0), villain (1), or antihero (2). \n",
    "\n",
    "**edges.csv** lists each character and the other characters they are connected to in the comics within two columns for \"source\" (the character which is being looked at) and \"target\" (a character the source character is connected to). "
   ]
  },
  {
   "attachments": {},
   "cell_type": "markdown",
   "metadata": {},
   "source": [
    "### Plan for Analysis\n",
    "\n",
    "For the analysis, we would first load in the data using **Pandas** and define the nodes and edges. \n",
    "\n",
    "For this project, we would want to see the connections between different characters in the same category, as well as between categories. For this, we would want to look at hero/hero, villain/villain collaborations, as well as connections between heroes and villains to understand some of the power and character dynamics within the Marvel universe. We would use **NetworkX** to build the network and calculate the centrality measures for the characters using the centrality calculating functions built into **NetworkX**. Specifically, we will be looking at _degree centrality_ and _eigenvector centrality_. \n",
    "\n",
    "- `networkx.degree_centrality()`: Measures the centrality of a node based on the number of other nodes that node is connected to. This is returned on a normalized scale of 0-1 by dividing the degree of each node by the total number of other nodes in the dataset.\n",
    "\n",
    "- `networkx.eigenvector_centrality()`: Measures the centrality of a node based on how well connected their connections are. This returns a centrality score for each node as a weighted sum of the centralities of all other nodes it is connected to. \n",
    "\n",
    "The basic distinction between these two centrality measures is that degree centrality measures centrality as a factor of how well connected a node is, while eigenvector centrality measures centrality as a factor of how connected a node's connections are. Eigenvector centrality can therefore reveal central characters who may not appear to be so well connected themselves, but are connected to other well connected characters. "
   ]
  },
  {
   "attachments": {},
   "cell_type": "markdown",
   "metadata": {},
   "source": [
    "### Possible Outcomes\n",
    "\n",
    "We would expect to see higher centrality scores for heroes than villains, due to the nature of heroes to team up (i.e. the Avengers regularly team up to fight individual villains such as Loki or Thanos) while villains don't interact with one another quite as often. \n",
    "\n",
    "We would also expect to see high centrality scores for heroes and villains already featured in the Marvel Cinematic Universe, as these tend to be more popular characters who would have been heavily featured in the comic books."
   ]
  }
 ],
 "metadata": {
  "kernelspec": {
   "display_name": "base",
   "language": "python",
   "name": "python3"
  },
  "language_info": {
   "codemirror_mode": {
    "name": "ipython",
    "version": 3
   },
   "file_extension": ".py",
   "mimetype": "text/x-python",
   "name": "python",
   "nbconvert_exporter": "python",
   "pygments_lexer": "ipython3",
   "version": "3.9.12"
  },
  "orig_nbformat": 4
 },
 "nbformat": 4,
 "nbformat_minor": 2
}
